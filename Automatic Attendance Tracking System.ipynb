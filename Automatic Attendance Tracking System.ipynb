{
 "cells": [
  {
   "cell_type": "markdown",
   "id": "2324cdc8",
   "metadata": {},
   "source": [
    "# Automatic Attendance Tracking System"
   ]
  },
  {
   "cell_type": "markdown",
   "id": "24c7c877",
   "metadata": {},
   "source": [
    "## Barcode Detetction"
   ]
  },
  {
   "cell_type": "markdown",
   "id": "875a4211",
   "metadata": {},
   "source": [
    "The below code detects the bar code from an image and decodes it to get the data from barcode and returns to the caller function.It draws a rectangular box around the detected barcode and displays the data on screen too. (basically, the data is the roll number)"
   ]
  },
  {
   "cell_type": "code",
   "execution_count": 43,
   "id": "c2c17559",
   "metadata": {},
   "outputs": [],
   "source": [
    "import cv2\n",
    "import numpy as np\n",
    "from pyzbar.pyzbar import decode\n",
    "\n",
    "def decodeTheBarcode(img):    \n",
    "    myDataList = [\n",
    "        \"111114\"\n",
    "    ]\n",
    "\n",
    "    for barcode in decode(img):\n",
    "        myData = barcode.data.decode(\"utf-8\")\n",
    "        print(myData)\n",
    "\n",
    "        if myData in myDataList:\n",
    "            color = (0, 255, 0)\n",
    "        else:\n",
    "            color = (0, 0, 255)\n",
    "        # (255, 0, 255)\n",
    "\n",
    "        pts = np.array([barcode.polygon], np.int32)\n",
    "        pts = pts.reshape((-1, 1, 2))\n",
    "        cv2.polylines(img, [pts], True, color, 5)\n",
    "        pts2 = barcode.rect\n",
    "        cv2.putText(img, myData, (pts2[0], pts2[1]), cv2.FONT_HERSHEY_SIMPLEX, 0.9, color, 2)\n",
    "        return myData\n",
    "\n",
    "\n",
    "    cv2.imshow(\"img\",img)\n",
    "    cv2.waitKey(1)"
   ]
  },
  {
   "cell_type": "markdown",
   "id": "366e745e",
   "metadata": {},
   "source": [
    "## We need to store the student details in a data structure such that we can access name with roll no."
   ]
  },
  {
   "cell_type": "code",
   "execution_count": 44,
   "id": "7f19910d",
   "metadata": {},
   "outputs": [],
   "source": [
    "#Keys are roll numbers and Value are Names\n",
    "StudDetails ={'19501A0552':'farooq' ,'101':'alluarjun' ,'102':'mahesh','103':'charan','104':'ntr' ,'105':'prabhas' }"
   ]
  },
  {
   "cell_type": "markdown",
   "id": "e3102b13",
   "metadata": {},
   "source": [
    "## Writing data in the excel sheet"
   ]
  },
  {
   "cell_type": "markdown",
   "id": "1beac7ce",
   "metadata": {},
   "source": [
    "I created a new object for worksheet and sent to the below function along with the primary details like roll number and the row in which it is to be added.\n",
    "The name of the excel file would be 'Attendance of' followed by the date of taking attendance \n",
    "Creating multiple wroksheet objects with same file name creates a new file each time and finally saves the last file.\n",
    "So, I used Single object every time"
   ]
  },
  {
   "cell_type": "code",
   "execution_count": 45,
   "id": "64eaab8d",
   "metadata": {},
   "outputs": [],
   "source": [
    "def Write(rolno , row , xlsheet):\n",
    "    xlsheet.write(row,0,row)\n",
    "    xlsheet.write(row,1,rolno)\n",
    "    xlsheet.write(row,2,StudDetails[rolno])\n",
    "    xlsheet.write(row,3,str(date.today()))\n",
    "    xlsheet.write(row,4,str(datetime.now().time()))    "
   ]
  },
  {
   "cell_type": "markdown",
   "id": "298e50c3",
   "metadata": {},
   "source": [
    "## Verification of the roll number and face."
   ]
  },
  {
   "cell_type": "markdown",
   "id": "66635065",
   "metadata": {},
   "source": [
    "It first detects the roll number if it is present in the StudDetails then it will Search for the matching face."
   ]
  },
  {
   "cell_type": "markdown",
   "id": "3605d896",
   "metadata": {},
   "source": [
    "It displays no face detected if it unable to detect the face ( haarcascade_frontalface_default is used for face detection )"
   ]
  },
  {
   "cell_type": "markdown",
   "id": "1eaa721b",
   "metadata": {},
   "source": [
    "If the person infront of the camera doesn't match with the student with roll number, it displays \"You are not StudentX\" "
   ]
  },
  {
   "cell_type": "markdown",
   "id": "1eb9ef21",
   "metadata": {},
   "source": [
    "Once after matching the roll number and face It shows \"Registered\" and enter his details in the Excel Sheet"
   ]
  },
  {
   "cell_type": "markdown",
   "id": "7639062f",
   "metadata": {},
   "source": [
    "It stops the process when any key is pressed or once it is shown barcode with 'Stop' as data"
   ]
  },
  {
   "cell_type": "code",
   "execution_count": 83,
   "id": "c9ccb2cc",
   "metadata": {
    "scrolled": true
   },
   "outputs": [
    {
     "name": "stdout",
     "output_type": "stream",
     "text": [
      "101\n",
      "1/1 [==============================] - 0s 425ms/step\n",
      "1/1 [==============================] - 0s 331ms/step\n",
      "1/1 [==============================] - 0s 309ms/step\n",
      "1/1 [==============================] - 0s 310ms/step\n",
      "1/1 [==============================] - 0s 299ms/step\n",
      "1/1 [==============================] - 0s 305ms/step\n",
      "1/1 [==============================] - 0s 320ms/step\n",
      "1/1 [==============================] - 0s 297ms/step\n",
      "1/1 [==============================] - 0s 312ms/step\n",
      "1/1 [==============================] - 0s 298ms/step\n",
      "1/1 [==============================] - 0s 324ms/step\n",
      "1/1 [==============================] - 0s 318ms/step\n",
      "1/1 [==============================] - 0s 320ms/step\n",
      "1/1 [==============================] - 0s 317ms/step\n",
      "1/1 [==============================] - 0s 328ms/step\n",
      "1/1 [==============================] - 0s 323ms/step\n",
      "1/1 [==============================] - 0s 317ms/step\n",
      "1/1 [==============================] - 0s 328ms/step\n",
      "1/1 [==============================] - 0s 324ms/step\n",
      "1/1 [==============================] - 0s 357ms/step\n",
      "1/1 [==============================] - 0s 402ms/step\n",
      "1/1 [==============================] - 0s 331ms/step\n",
      "102\n",
      "1/1 [==============================] - 0s 344ms/step\n",
      "1/1 [==============================] - 0s 308ms/step\n",
      "1/1 [==============================] - 0s 312ms/step\n",
      "1/1 [==============================] - 0s 309ms/step\n",
      "1/1 [==============================] - 0s 304ms/step\n",
      "1/1 [==============================] - 0s 311ms/step\n",
      "1/1 [==============================] - 0s 310ms/step\n",
      "1/1 [==============================] - 0s 296ms/step\n",
      "1/1 [==============================] - 0s 316ms/step\n",
      "1/1 [==============================] - 0s 300ms/step\n",
      "1/1 [==============================] - 0s 309ms/step\n",
      "1/1 [==============================] - 0s 337ms/step\n",
      "1/1 [==============================] - 0s 324ms/step\n",
      "1/1 [==============================] - 0s 309ms/step\n",
      "1/1 [==============================] - 0s 317ms/step\n",
      "1/1 [==============================] - 0s 315ms/step\n",
      "103\n",
      "1/1 [==============================] - 0s 345ms/step\n",
      "1/1 [==============================] - 0s 327ms/step\n",
      "1/1 [==============================] - 0s 315ms/step\n",
      "1/1 [==============================] - 0s 314ms/step\n",
      "1/1 [==============================] - 0s 313ms/step\n",
      "1/1 [==============================] - 0s 305ms/step\n",
      "1/1 [==============================] - 0s 299ms/step\n",
      "1/1 [==============================] - 0s 305ms/step\n",
      "1/1 [==============================] - 0s 308ms/step\n",
      "1/1 [==============================] - 0s 294ms/step\n",
      "1/1 [==============================] - 0s 331ms/step\n",
      "1/1 [==============================] - 0s 297ms/step\n",
      "1/1 [==============================] - 0s 308ms/step\n",
      "1/1 [==============================] - 0s 315ms/step\n",
      "1/1 [==============================] - 0s 302ms/step\n",
      "1/1 [==============================] - 0s 310ms/step\n",
      "1/1 [==============================] - 0s 308ms/step\n",
      "1/1 [==============================] - 0s 315ms/step\n",
      "104\n",
      "1/1 [==============================] - 0s 325ms/step\n",
      "1/1 [==============================] - 0s 306ms/step\n",
      "1/1 [==============================] - 0s 309ms/step\n",
      "1/1 [==============================] - 0s 310ms/step\n",
      "1/1 [==============================] - 0s 321ms/step\n",
      "1/1 [==============================] - 0s 312ms/step\n",
      "1/1 [==============================] - 0s 307ms/step\n",
      "1/1 [==============================] - 0s 304ms/step\n",
      "1/1 [==============================] - 0s 317ms/step\n",
      "1/1 [==============================] - 0s 300ms/step\n",
      "1/1 [==============================] - 0s 314ms/step\n",
      "1/1 [==============================] - 0s 308ms/step\n",
      "1/1 [==============================] - 0s 310ms/step\n",
      "1/1 [==============================] - 0s 323ms/step\n",
      "1/1 [==============================] - 0s 302ms/step\n",
      "1/1 [==============================] - 0s 311ms/step\n",
      "1/1 [==============================] - 0s 310ms/step\n",
      "1/1 [==============================] - 0s 303ms/step\n",
      "1/1 [==============================] - 0s 314ms/step\n",
      "1/1 [==============================] - 0s 313ms/step\n",
      "1/1 [==============================] - 0s 317ms/step\n",
      "1/1 [==============================] - 0s 316ms/step\n",
      "1/1 [==============================] - 0s 299ms/step\n",
      "1/1 [==============================] - 0s 326ms/step\n",
      "105\n",
      "1/1 [==============================] - 0s 369ms/step\n",
      "1/1 [==============================] - 0s 304ms/step\n",
      "1/1 [==============================] - 0s 329ms/step\n",
      "1/1 [==============================] - 0s 316ms/step\n",
      "1/1 [==============================] - 0s 306ms/step\n",
      "1/1 [==============================] - 0s 324ms/step\n",
      "1/1 [==============================] - 0s 298ms/step\n",
      "1/1 [==============================] - 0s 309ms/step\n",
      "1/1 [==============================] - 0s 317ms/step\n",
      "1/1 [==============================] - 0s 314ms/step\n",
      "1/1 [==============================] - 0s 313ms/step\n",
      "1/1 [==============================] - 0s 317ms/step\n",
      "1/1 [==============================] - 0s 321ms/step\n",
      "1/1 [==============================] - 0s 308ms/step\n",
      "1/1 [==============================] - 0s 332ms/step\n",
      "1/1 [==============================] - 0s 307ms/step\n",
      "19501A0552\n",
      "1/1 [==============================] - 0s 317ms/step\n",
      "1/1 [==============================] - 0s 390ms/step\n",
      "1/1 [==============================] - 0s 322ms/step\n",
      "1/1 [==============================] - 0s 324ms/step\n",
      "1/1 [==============================] - 0s 350ms/step\n",
      "1/1 [==============================] - 0s 319ms/step\n",
      "Stop\n",
      "Collecting the file....\n",
      "Session starting....\n",
      "Sending mail....\n",
      "Mail sent successfully!!\n"
     ]
    }
   ],
   "source": [
    "import base64\n",
    "from deepface import DeepFace\n",
    "import cv2\n",
    "import numpy as np\n",
    "import time\n",
    "import xlsxwriter\n",
    "from datetime import date\n",
    "from datetime import datetime\n",
    "\n",
    "\n",
    "face_cascade = cv2.CascadeClassifier(cv2.data.haarcascades +'haarcascade_frontalface_default.xml')\n",
    "\n",
    "\n",
    "def face_extractor(img):\n",
    "    \n",
    "    faces = face_cascade.detectMultiScale(img, 1.3, 5)\n",
    "    if faces is ():\n",
    "        return None\n",
    "    \n",
    "    for (x,y,w,h) in faces:\n",
    "        cv2.rectangle(img, (x,y), (x+w, y+h), (255,0,0), 2)\n",
    "        cropped_face = img[y:y+h, x:x+w]\n",
    "    \n",
    "    return cropped_face\n",
    "\n",
    "\n",
    "video_capture = cv2.VideoCapture(0)\n",
    "p1 = 'StudentsInfo/'\n",
    "count=0\n",
    "row=1\n",
    "idno=None\n",
    "workbook = xlsxwriter.Workbook(r'Attendance of '+str(date.today())+'.xlsx')\n",
    "xlsheet = workbook.add_worksheet()\n",
    "Columns = ['S. No.' , 'Roll No.', 'Name' , 'Date' , 'Time']\n",
    "xlsheet.write('A1', Columns[0])\n",
    "xlsheet.write('B1', Columns[1])\n",
    "xlsheet.write('C1', Columns[2])\n",
    "xlsheet.write('D1', Columns[3])\n",
    "xlsheet.write('E1', Columns[4])\n",
    "while True:\n",
    "    _, frame = video_capture.read()\n",
    "    \n",
    "    if count == 0:\n",
    "        cv2.putText(frame,\"Show  Me Your Id Card\", (50,50), cv2.FONT_HERSHEY_COMPLEX, 1, (51, 102, 255), 2)\n",
    "        idno=decodeTheBarcode(frame)\n",
    "        if str(idno)=='Stop' or str(idno)=='stop':\n",
    "            break\n",
    "        if idno not in StudDetails :\n",
    "            idno=None\n",
    "            \n",
    "    if idno != None :\n",
    "        count+=1\n",
    "    \n",
    "    if count!=0 and idno!= None :  \n",
    "        cv2.putText(frame,\"Look At The Camera\", (20,20), cv2.FONT_HERSHEY_COMPLEX, 1, (0,0,255), 1)\n",
    "        face = face_extractor(frame)\n",
    "        if type(face) is np.ndarray:\n",
    "            face = cv2.resize(face, (224,224))\n",
    "            im = Image.fromarray(face, 'RGB')\n",
    "            img_array = np.array(im)\n",
    "            img_array = np.expand_dims(img_array, axis = 0)\n",
    "            name = StudDetails[str(idno)]\n",
    "            res = DeepFace.verify(img1_path = p1+name+'.jpg'  , img2_path=frame , model_name='VGG-Face' , enforce_detection=False)\n",
    "            if res['verified']==True :\n",
    "                Write(idno,row,xlsheet)\n",
    "                row+=1\n",
    "                count=0\n",
    "                cv2.putText(frame, name+\" Registered! \", (50,250), cv2.FONT_HERSHEY_COMPLEX, 1, (0,255,0), 2)\n",
    "                idno=None\n",
    "                time.sleep(2)\n",
    "                \n",
    "            else:\n",
    "                cv2.putText(frame, \"you are not \"+name, (150,130), cv2.FONT_HERSHEY_COMPLEX, 1, (255,0,0), 2)\n",
    "        else:\n",
    "            cv2.putText(frame, \"No Face Found\", (100,100), cv2.FONT_HERSHEY_COMPLEX, 1, (255,255,0), 1)\n",
    "        cv2.imshow('Video', frame)\n",
    "\n",
    "        if cv2.waitKey(1) & 0xFF == ord('q'):\n",
    "            break\n",
    "workbook.close()\n",
    "video_capture.release()\n",
    "cv2.destroyAllWindows()\n",
    "sendmail()"
   ]
  },
  {
   "cell_type": "markdown",
   "id": "a31786c0",
   "metadata": {},
   "source": [
    "## Mailing the data to the provided mail"
   ]
  },
  {
   "cell_type": "markdown",
   "id": "cfe3dbb7",
   "metadata": {},
   "source": [
    "The data is mailed using smtplib\n",
    "smtplib is no longer authenticating the gmail with normal password\n",
    "You need to have the app  specifc password generated by gmail after turning two step verification ON.\n",
    "<a href=\"https://stackoverflow.com/questions/73026671/how-do-i-now-since-june-2022-send-an-email-via-gmail-using-a-python-script\">know more</a>"
   ]
  },
  {
   "cell_type": "code",
   "execution_count": 48,
   "id": "db365aeb",
   "metadata": {},
   "outputs": [],
   "source": [
    "import smtplib\n",
    "from email.mime.multipart import MIMEMultipart\n",
    "from email.mime.text import MIMEText\n",
    "from email.mime.base import MIMEBase\n",
    "from email import encoders\n",
    "from datetime import date\n",
    "\n",
    "def sendmail():\n",
    "    fromaddr = \"myweb.verify@gmail.com\"\n",
    "    toaddr = \"sameerfarooq9966@gmail.com\"\n",
    "\n",
    "    msg = MIMEMultipart()\n",
    "\n",
    "    msg['From'] = fromaddr\n",
    "\n",
    "    msg['To'] = toaddr\n",
    "\n",
    "    msg['Subject'] = \"list of attendees on \"+str(date.today())\n",
    "\n",
    "    body = '''Hello, I hope your day is going well \n",
    "            I'm back with new attendance list,check the below file.\n",
    "    '''\n",
    "\n",
    "    msg.attach(MIMEText(body, 'plain'))\n",
    "    print('Collecting the file....')\n",
    "    filename = 'Attendance of '+str(date.today())+'.xlsx'\n",
    "    attachment = open('C:\\\\Users\\\\DELL\\\\'+filename, \"rb\")\n",
    "\n",
    "    p = MIMEBase('application', 'octet-stream')\n",
    "\n",
    "    # To change the payload into encoded form\n",
    "    p.set_payload((attachment).read())\n",
    "\n",
    "    # encode into base64\n",
    "    encoders.encode_base64(p)\n",
    "\n",
    "    p.add_header('Content-Disposition', \"attachment; filename= %s\" % filename)\n",
    "\n",
    "    # attach the instance 'p' to instance 'msg'\n",
    "    msg.attach(p)\n",
    "\n",
    "    # creates SMTP session\n",
    "    s = smtplib.SMTP('smtp.gmail.com', 587)\n",
    "    print('Session starting....')\n",
    "    # start TLS for security\n",
    "    s.starttls()\n",
    "\n",
    "    # Authentication\n",
    "    s.login(fromaddr, '***password***')\n",
    "\n",
    "    # Converts the Multipart msg into a string\n",
    "    text = msg.as_string()\n",
    "    print('Sending mail....')\n",
    "    # sending the mail\n",
    "    s.sendmail(fromaddr, toaddr, text)\n",
    "    print('Mail sent successfully!!')\n",
    "    # terminating the session\n",
    "    s.quit()\n"
   ]
  },
  {
   "cell_type": "code",
   "execution_count": null,
   "id": "1a6246c5",
   "metadata": {},
   "outputs": [],
   "source": []
  }
 ],
 "metadata": {
  "kernelspec": {
   "display_name": "Python 3 (ipykernel)",
   "language": "python",
   "name": "python3"
  },
  "language_info": {
   "codemirror_mode": {
    "name": "ipython",
    "version": 3
   },
   "file_extension": ".py",
   "mimetype": "text/x-python",
   "name": "python",
   "nbconvert_exporter": "python",
   "pygments_lexer": "ipython3",
   "version": "3.10.4"
  }
 },
 "nbformat": 4,
 "nbformat_minor": 5
}
